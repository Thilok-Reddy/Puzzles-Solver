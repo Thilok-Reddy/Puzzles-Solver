{
 "cells": [
  {
   "cell_type": "markdown",
   "id": "eb73f224",
   "metadata": {},
   "source": [
    "# Depth First Search "
   ]
  },
  {
   "cell_type": "code",
   "execution_count": 14,
   "id": "c35602a8",
   "metadata": {
    "scrolled": true
   },
   "outputs": [
    {
     "name": "stdout",
     "output_type": "stream",
     "text": [
      "Enter the value of N: 200\n",
      "Enter the target value X: 1000\n",
      "Valid solution: 1+1+1+1+1+1+1+1+1+1+1+1+1+1+1+1+1+1+1+1+1+1+1+1+1+1+1+1+1+1+1+1+1+1+1+1+1+1+1+1+1+1+1+1+1+1+1+1+1+1+1+1+1+1+1+1+1+1+1+1+1+1+1+1+1+1+1+1+1+1+1+1+1+1+1+1+1+1+1+1+1+1+1+1+1+1+1+1+1+1+1+1+1+1+1+1+1+1+1+1+1+1+1+1+1+1+1+1+1+1+1+1+1+1+1+1+1+1+1+1+1+1+1+1+1+1+1+1+1+1+1+1+1+1+1+1+1+1+1+1+1+1+1+1+1+1+1+1+1+1+1+1+1+1+1+1+1+1+1+1+1+1+1+1+1+1+1+1+1+1+1+1+1+1+1+1+1+1+1+1+1+1+1+1+1+1+1+1+1+1+1+1+1+1+1+2*5*9*9-5\n"
     ]
    }
   ],
   "source": [
    "def solve_puzzle_dfs(N, X):\n",
    "    numbers = [1, 2, 3, 4, 5, 6, 7, 8, 9]\n",
    "    operators = ['+', '-', '*', '/']\n",
    "\n",
    "    def is_valid(expression):\n",
    "        try:\n",
    "            result = eval(expression)\n",
    "            return result == X\n",
    "        except (ZeroDivisionError, SyntaxError):\n",
    "            return False\n",
    "\n",
    "    def dfs(expression, length):\n",
    "        if length == N:\n",
    "            if is_valid(expression):\n",
    "                return expression\n",
    "            return None\n",
    "\n",
    "        for num in numbers:\n",
    "            for op in operators:\n",
    "                if length == N - 1:\n",
    "                    new_expression = expression + str(num)\n",
    "                else:\n",
    "                    new_expression = expression + str(num) + op\n",
    "                result = dfs(new_expression, length + 1)\n",
    "                if result:\n",
    "                    return result\n",
    "\n",
    "    return dfs(\"\", 0)\n",
    "\n",
    "N = int(input(\"Enter the value of N: \"))\n",
    "X = int(input(\"Enter the target value X: \"))\n",
    "\n",
    "solution = solve_puzzle_dfs(N, X)\n",
    "if solution:\n",
    "    print(\"Valid solution:\", solution)\n",
    "else:\n",
    "    print(\"No valid solutions found.\")\n"
   ]
  },
  {
   "cell_type": "markdown",
   "id": "3c2c80d3",
   "metadata": {},
   "source": [
    "# Breadth First Search"
   ]
  },
  {
   "cell_type": "code",
   "execution_count": 3,
   "id": "c32342c3",
   "metadata": {},
   "outputs": [
    {
     "name": "stdout",
     "output_type": "stream",
     "text": [
      "Enter the value of N: 3\n",
      "Enter the target value X: 100\n",
      "Valid solution: 4*5*5\n"
     ]
    }
   ],
   "source": [
    "from collections import deque\n",
    "\n",
    "def solve_puzzle_bfs(N, X):\n",
    "    numbers = [1,2,3,4,5,6,7,8,9]\n",
    "    operators = ['+', '-', '*', '/']\n",
    "\n",
    "    def is_valid(expression):\n",
    "        try:\n",
    "            result = eval(expression)\n",
    "            return result == X\n",
    "        except (ZeroDivisionError, SyntaxError):\n",
    "            return False\n",
    "\n",
    "    queue = deque()\n",
    "    queue.append((\"\", 0))\n",
    "\n",
    "    while queue:\n",
    "        expression, length = queue.popleft()\n",
    "\n",
    "        if length == N:\n",
    "            if is_valid(expression):\n",
    "                print(\"Valid solution:\", expression)\n",
    "                return\n",
    "\n",
    "        if length < N:\n",
    "            for num in numbers:\n",
    "                for op in operators:\n",
    "                    if length == N - 1:\n",
    "                        new_expression = expression + str(num)\n",
    "                    else:\n",
    "                        new_expression = expression + str(num) + op\n",
    "                    queue.append((new_expression, length + 1))\n",
    "\n",
    "    print(\"No valid solutions found.\")\n",
    "\n",
    "N = int(input(\"Enter the value of N: \"))\n",
    "X = int(input(\"Enter the target value X: \"))\n",
    "\n",
    "solve_puzzle_bfs(N, X)\n"
   ]
  },
  {
   "cell_type": "markdown",
   "id": "c2c29fa1",
   "metadata": {},
   "source": [
    "# A*"
   ]
  },
  {
   "cell_type": "code",
   "execution_count": 1,
   "id": "28f874cc",
   "metadata": {},
   "outputs": [
    {
     "name": "stdout",
     "output_type": "stream",
     "text": [
      "Enter the value of N: 1000\n",
      "Enter the target value X: 1\n",
      "Valid solution: 1*1*1*1*1*1*1*1*1*1*1*1*1*1*1*1*1*1*1*1*1*1*1*1*1*1*1*1*1*1*1*1*1*1*1*1*1*1*1*1*1*1*1*1*1*1*1*1*1*1*1*1*1*1*1*1*1*1*1*1*1*1*1*1*1*1*1*1*1*1*1*1*1*1*1*1*1*1*1*1*1*1*1*1*1*1*1*1*1*1*1*1*1*1*1*1*1*1*1*1*1*1*1*1*1*1*1*1*1*1*1*1*1*1*1*1*1*1*1*1*1*1*1*1*1*1*1*1*1*1*1*1*1*1*1*1*1*1*1*1*1*1*1*1*1*1*1*1*1*1*1*1*1*1*1*1*1*1*1*1*1*1*1*1*1*1*1*1*1*1*1*1*1*1*1*1*1*1*1*1*1*1*1*1*1*1*1*1*1*1*1*1*1*1*1*1*1*1*1*1*1*1*1*1*1*1*1*1*1*1*1*1*1*1*1*1*1*1*1*1*1*1*1*1*1*1*1*1*1*1*1*1*1*1*1*1*1*1*1*1*1*1*1*1*1*1*1*1*1*1*1*1*1*1*1*1*1*1*1*1*1*1*1*1*1*1*1*1*1*1*1*1*1*1*1*1*1*1*1*1*1*1*1*1*1*1*1*1*1*1*1*1*1*1*1*1*1*1*1*1*1*1*1*1*1*1*1*1*1*1*1*1*1*1*1*1*1*1*1*1*1*1*1*1*1*1*1*1*1*1*1*1*1*1*1*1*1*1*1*1*1*1*1*1*1*1*1*1*1*1*1*1*1*1*1*1*1*1*1*1*1*1*1*1*1*1*1*1*1*1*1*1*1*1*1*1*1*1*1*1*1*1*1*1*1*1*1*1*1*1*1*1*1*1*1*1*1*1*1*1*1*1*1*1*1*1*1*1*1*1*1*1*1*1*1*1*1*1*1*1*1*1*1*1*1*1*1*1*1*1*1*1*1*1*1*1*1*1*1*1*1*1*1*1*1*1*1*1*1*1*1*1*1*1*1*1*1*1*1*1*1*1*1*1*1*1*1*1*1*1*1*1*1*1*1*1*1*1*1*1*1*1*1*1*1*1*1*1*1*1*1*1*1*1*1*1*1*1*1*1*1*1*1*1*1*1*1*1*1*1*1*1*1*1*1*1*1*1*1*1*1*1*1*1*1*1*1*1*1*1*1*1*1*1*1*1*1*1*1*1*1*1*1*1*1*1*1*1*1*1*1*1*1*1*1*1*1*1*1*1*1*1*1*1*1*1*1*1*1*1*1*1*1*1*1*1*1*1*1*1*1*1*1*1*1*1*1*1*1*1*1*1*1*1*1*1*1*1*1*1*1*1*1*1*1*1*1*1*1*1*1*1*1*1*1*1*1*1*1*1*1*1*1*1*1*1*1*1*1*1*1*1*1*1*1*1*1*1*1*1*1*1*1*1*1*1*1*1*1*1*1*1*1*1*1*1*1*1*1*1*1*1*1*1*1*1*1*1*1*1*1*1*1*1*1*1*1*1*1*1*1*1*1*1*1*1*1*1*1*1*1*1*1*1*1*1*1*1*1*1*1*1*1*1*1*1*1*1*1*1*1*1*1*1*1*1*1*1*1*1*1*1*1*1*1*1*1*1*1*1*1*1*1*1*1*1*1*1*1*1*1*1*1*1*1*1*1*1*1*1*1*1*1*1*1*1*1*1*1*1*1*1*1*1*1*1*1*1*1*1*1*1*1*1*1*1*1*1*1*1*1*1*1*1*1*1*1*1*1*1*1*1*1*1*1*1*1*1*1*1*1*1*1*1*1*1*1*1*1*1*1*1*1*1*1*1*1*1*1*1*1*1*1*1*1*1*1*1*1*1*1*1*1*1*1*1*1*1*1*1*1*1*1*1*1*1*1*1*1*1*1*1*1*1*1*1*1*1*1*1*1*1*1*1*1*1*1*1*1*1*1*1*1*1*1*1*1*1*1*1*1*1*1*1*1*1*1*1*1*1*1*1*1*1*1*1*1*1*1*1*1*1*1*1*1*1*1*1*1*1*1*1*1*1*1*1*1*1*1*1*1*1*1*1*1*1*1*1*1*1*1*1*1*1*1*1*1*1*1*1*1*1*1*1*1*1*1*1*1*1*1*1*1*1*1*1*1*1*1*1*1*1*1*1*1*1*1*1*1*1*1*1*1*1*1*1*1*1*1*1*1*1*1*1*1*1*1*1*1*1*1*1*1*1*1*1*1*1*1*1\n"
     ]
    }
   ],
   "source": [
    "import heapq\n",
    "\n",
    "def solve_puzzle_astar(N, X):\n",
    "    numbers = [1, 2, 3, 4, 5, 6, 7, 8, 9]\n",
    "    operators = ['+', '-', '*', '/']\n",
    "\n",
    "    def is_valid(expression):\n",
    "        try:\n",
    "            result = eval(expression)\n",
    "            return result == X\n",
    "        except (ZeroDivisionError, SyntaxError):\n",
    "            return False\n",
    "\n",
    "    # Define a heuristic function that estimates the remaining distance to the target (X).\n",
    "    def heuristic(expression):\n",
    "        try:\n",
    "            result = eval(expression)\n",
    "            return abs(result - X)\n",
    "        except (ZeroDivisionError, SyntaxError):\n",
    "            return float('inf')\n",
    "\n",
    "    # Initialize the priority queue with the initial state (empty expression).\n",
    "    initial_state = (\"\", 0)\n",
    "    open_set = [(heuristic(initial_state[0]), initial_state)]\n",
    "\n",
    "    while open_set:\n",
    "        _, (expression, length) = heapq.heappop(open_set)\n",
    "\n",
    "        if length == N:\n",
    "            if is_valid(expression):\n",
    "                return expression\n",
    "\n",
    "        for num in numbers:\n",
    "            for op in operators:\n",
    "                if length == N - 1:\n",
    "                    new_expression = expression + str(num)\n",
    "                else:\n",
    "                    new_expression = expression + str(num) + op\n",
    "\n",
    "                # Calculate the f-score (heuristic + length) for the new expression.\n",
    "                f_score = length + heuristic(new_expression)\n",
    "                heapq.heappush(open_set, (f_score, (new_expression, length + 1)))\n",
    "\n",
    "    return None\n",
    "\n",
    "N = int(input(\"Enter the value of N: \"))\n",
    "X = int(input(\"Enter the target value X: \"))\n",
    "\n",
    "solution = solve_puzzle_astar(N, X)\n",
    "if solution:\n",
    "    print(\"Valid solution:\", solution)\n",
    "else:\n",
    "    print(\"No valid solutions found.\")\n"
   ]
  },
  {
   "cell_type": "markdown",
   "id": "cf222f2d",
   "metadata": {},
   "source": [
    "# Brute Force Method"
   ]
  },
  {
   "cell_type": "code",
   "execution_count": 3,
   "id": "65673d77",
   "metadata": {},
   "outputs": [
    {
     "name": "stdout",
     "output_type": "stream",
     "text": [
      "Enter the value of N: 7\n",
      "Enter the target value X: 14\n",
      "Valid solution:1+1+1+1+1+1+8\n"
     ]
    }
   ],
   "source": [
    "import itertools\n",
    "\n",
    "def solve_puzzle(N, X):\n",
    "    numbers = [1, 2, 3, 4, 5, 6, 7, 8, 9]\n",
    "    operators = ['+', '-', '*', '/']\n",
    "\n",
    "    # Generate all combinations of N numbers\n",
    "    number_combinations = list(itertools.product(numbers, repeat=N))\n",
    "\n",
    "    # Generate all combinations of operators\n",
    "    operator_combinations = list(itertools.product(operators, repeat=N-1))\n",
    "\n",
    "    for num_combination in number_combinations:\n",
    "        for op_combination in operator_combinations:\n",
    "            expression = ''.join([str(num_combination[i]) + op_combination[i] for i in range(N-1)]) + str(num_combination[N-1])\n",
    "\n",
    "            try:\n",
    "                result = eval(expression)\n",
    "                if result == X:\n",
    "                    return expression\n",
    "            except:\n",
    "                pass\n",
    "\n",
    "    return []\n",
    "\n",
    "N = int(input(\"Enter the value of N: \"))\n",
    "X = int(input(\"Enter the target value X: \"))\n",
    "\n",
    "solution = solve_puzzle(N, X)\n",
    "if solution:\n",
    "    print(f\"Valid solution:{solution}\")\n",
    "else:\n",
    "    print(\"No valid solutions found.\")"
   ]
  }
 ],
 "metadata": {
  "kernelspec": {
   "display_name": "Python 3 (ipykernel)",
   "language": "python",
   "name": "python3"
  },
  "language_info": {
   "codemirror_mode": {
    "name": "ipython",
    "version": 3
   },
   "file_extension": ".py",
   "mimetype": "text/x-python",
   "name": "python",
   "nbconvert_exporter": "python",
   "pygments_lexer": "ipython3",
   "version": "3.9.12"
  }
 },
 "nbformat": 4,
 "nbformat_minor": 5
}
